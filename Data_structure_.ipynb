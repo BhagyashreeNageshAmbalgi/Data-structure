{
  "nbformat": 4,
  "nbformat_minor": 0,
  "metadata": {
    "colab": {
      "provenance": []
    },
    "kernelspec": {
      "name": "python3",
      "display_name": "Python 3"
    },
    "language_info": {
      "name": "python"
    }
  },
  "cells": [
    {
      "cell_type": "markdown",
      "source": [
        " Q1) What are data structures, and why are they important?\n",
        "\n",
        " Ans: way of organizing and storing data so that it can be accessed and manupilated efficiently is called data structure.\n",
        "\n",
        "this are important because manages the data efficiently , have improved performance,scalability , problem solving access , code readability and maintanability.\n",
        "\n",
        "Q2) Explain the difference between mutable and immutable data types with examples?\n",
        "\n",
        "Ans:mutable data types means - in which elements can be added, removed , edited , inserted etc . example - list\n",
        "\n",
        "immutable data types mesans - in which elements can not be changed. example tuples\n",
        "\n",
        "Q3) What are the main differences between lists and tuples in Python?\n",
        "\n",
        "Ans: the main difference between list and tuples are\n",
        "lists are mutable and non orderd where as tuples are immutable and orderd.\n",
        "\n",
        "Q4)  Describe how dictionaries store data?\n",
        "\n",
        "Ans: Dictionary is the data structutre that stores data in the form of key and its value where keys are immutable and unique\n",
        "\n",
        "basically dictionary is unordered but from python 3.7 it retains the order of insertion that means if you iterate the dictionary the items  will returned in the order they were added.\n",
        "\n",
        "there will be two parts in dictionary one is key and other is value they are seperate by ':' symbol.\n",
        "\n",
        "\n",
        "Q5)  Why might you use a set instead of a list in Python?\n",
        "\n",
        "Ans: we use set instead of list to remove duplicates and when need efficient data , sets support unique operations like union, difference which modifies the data efficiently with less time consumption.\n",
        "\n",
        " Q6)  What is a string in Python, and how is it different from a list?\n",
        "\n",
        "Ans: string is a sequence of charecter like numbers , letters and symbols enclosed in quotes ( single , double  or triple quotes ). strings are immutable means there content can not be modified once created.\n",
        "\n",
        "where as lists are mutable we can modify the content of list after creation and need no be enclosed in quotes.\n",
        "\n",
        "Q7) How do tuples ensure data integrity in Python?\n",
        "\n",
        "Ans: Tuples ensure data integrity in Python by being immutable, preventing unintended changes, and ensuring data consistency. This makes tuples a valuable tool for storing constant data, ensuring thread safety, and improving code reliability.\n",
        "\n",
        "Q8)  What is a hash table, and how does it relate to dictionaries in Python?\n",
        "\n",
        "Ans: A hash table (also known as a hash map or dictionary) is a data structure that stores key-value pairs in an array using a hash function to map keys to indices of the array. The hash function takes a key as input and generates a hash code, which is used to determine the index at which the corresponding value is stored.\n",
        "\n",
        "Dictionaries in Python are implemented as hash tables, making them a powerful tool for storing and retrieving data.\n",
        "\n",
        "Q9)  Can lists contain different data types in Python ?\n",
        "\n",
        "Ans: yes, since list are heterogenous data structure it can store different types data like strings , integers , boolean , float , another list in a list , tuples etc.\n",
        "\n",
        "Q10) Explain why strings are immutable in Python?\n",
        "\n",
        "Ans: strings are immutable in Python due to memory efficiency, thread safety, security, and hashability considerations. This immutability provides several benefits, including code reliability, performance, and simplified development.\n",
        "\n",
        "Q11)  What advantages do dictionaries offer over lists for certain tasks?\n",
        "\n",
        "Ans: Dictionaries are preferred when working with large amounts of data where as lists cant be manages by large data and the primary advantage of dictionaries would be retriving stored values as it is much simpler to search through a dictionary.\n",
        "\n",
        "Q12)  Describe a scenario where using a tuple would be preferable over a list?\n",
        "\n",
        "Ans: A scenario for using tupeles over a list could be storing the adhar or pan information where every individul will be having there own information which needs to be stored with out allowing mutation where as hence lists are mutable confidential data can not be stored in lists.\n",
        "\n",
        "Q13)  How do sets handle duplicate values in Python?\n",
        "\n",
        "Ans: Sets wont allow duplicates to execute it will cancel the double index and consider that perticualr element as single. by removing duplicates it allows set operations to be executed.\n",
        "\n",
        "Q14)  How does the “in” keyword work differently for lists and dictionaries?\n",
        "\n",
        "Ans:For lists, the \"in\" keyword checks if a value is present in the list. It searches through the list and returns True if the value is found, and False otherwise.\n",
        "\n",
        "For dictionaries, the \"in\" keyword checks if a key is present in the dictionary. It searches through the dictionary's keys and returns True if the key is found, and False otherwise.\n",
        "\n",
        "Q15)  Can you modify the elements of a tuple? Explain why or why not.\n",
        "\n",
        "Ans: No we can not modify the elements of a tuple why because tuples are immutable.\n",
        "\n",
        "Q16)  What is a nested dictionary, and give an example of its use case?\n",
        "\n",
        "Ans: A nested dictionary is a dictionary that contains another dictionary as its value. This allows for complex data structures and hierarchical organization of data.\n",
        "\n",
        "Q17)  Describe the time complexity of accessing elements in a dictionary?\n",
        "\n",
        "Ans: The time complexity of accessing elements in a dictionary in Python is typically O(1), making dictionaries a fast and efficient data structure for data storage and retrieval.\n",
        "\n",
        "Q18)  In what situations are lists preferred over dictionaries?\n",
        "\n",
        "Ans: lists are preferred over dictionaries when data order matters, index-based access is required, or dynamic data needs to be stored and updated frequently.\n",
        "\n",
        "Q19)  Why are dictionaries considered unordered, and how does that affect data retrieval?\n",
        "\n",
        "Ans: Prior to Python 3.7, dictionaries were considered unordered because they did not maintain the insertion order of key-value pairs. This was due to the way dictionaries were implemented, using a hash table data structure.\n",
        "\n",
        "However, in Python 3.7 and later, dictionaries maintain the insertion order of key-value pairs, making them more predictable and useful in certain situations.\n",
        "\n",
        "Q20) Explain the difference between a list and a dictionary in terms of data retrieval?\n",
        "\n",
        "Ans:  lists and dictionaries differ significantly in terms of data retrieval, with lists using index-based access and dictionaries using key-based access. Understanding these differences is essential for choosing the right data structure for your specific use case.\n",
        "\n",
        "\n",
        "\n",
        "\n",
        "\n",
        "\n",
        "\n"
      ],
      "metadata": {
        "id": "qtcMB7MKSMSq"
      }
    },
    {
      "cell_type": "markdown",
      "source": [
        "##PRACTICAL QUESTIONS\n",
        "\n",
        "Q1) Write a code to create a string with your name and print it?\n",
        "\n",
        "Ans:"
      ],
      "metadata": {
        "id": "oKgmZnQIKp2T"
      }
    },
    {
      "cell_type": "code",
      "source": [
        "print(\"name:\\t\\tBhagyashree\")"
      ],
      "metadata": {
        "colab": {
          "base_uri": "https://localhost:8080/"
        },
        "id": "eyCFW_hFLBTd",
        "outputId": "85255ce0-e45b-47ba-dea0-a7057009d983"
      },
      "execution_count": null,
      "outputs": [
        {
          "output_type": "stream",
          "name": "stdout",
          "text": [
            "name:\t\tBhagyashree\n"
          ]
        }
      ]
    },
    {
      "cell_type": "markdown",
      "source": [
        "Q2)  Write a code to find the length of the string \"Hello World\"?\n",
        "\n",
        "Ans:\n"
      ],
      "metadata": {
        "id": "QCqSRTfhLUcC"
      }
    },
    {
      "cell_type": "code",
      "source": [
        "a = (\"hello world\")\n",
        "print(a)"
      ],
      "metadata": {
        "colab": {
          "base_uri": "https://localhost:8080/"
        },
        "id": "BkP-uXSfMXzt",
        "outputId": "6ca38183-3408-4fb9-80ac-a7d996b541f4"
      },
      "execution_count": null,
      "outputs": [
        {
          "output_type": "stream",
          "name": "stdout",
          "text": [
            "hello world\n"
          ]
        }
      ]
    },
    {
      "cell_type": "code",
      "source": [
        "len(a)"
      ],
      "metadata": {
        "colab": {
          "base_uri": "https://localhost:8080/"
        },
        "id": "okbZAxkxMjq0",
        "outputId": "559d335f-b4e5-488b-8336-9196de4e5c61"
      },
      "execution_count": null,
      "outputs": [
        {
          "output_type": "execute_result",
          "data": {
            "text/plain": [
              "11"
            ]
          },
          "metadata": {},
          "execution_count": 3
        }
      ]
    },
    {
      "cell_type": "markdown",
      "source": [
        "Q3)  Write a code to slice the first 3 characters from the string \"Python Programming\""
      ],
      "metadata": {
        "id": "ryJHgecnMzRh"
      }
    },
    {
      "cell_type": "code",
      "source": [
        "a = \"python programming\"\n",
        "print(a[0:3])"
      ],
      "metadata": {
        "colab": {
          "base_uri": "https://localhost:8080/"
        },
        "id": "oA_PAEz0M4CI",
        "outputId": "25c33de8-17ad-4d90-df8b-131e7a6e276b"
      },
      "execution_count": null,
      "outputs": [
        {
          "output_type": "stream",
          "name": "stdout",
          "text": [
            "pyt\n"
          ]
        }
      ]
    },
    {
      "cell_type": "markdown",
      "source": [
        "Q4) Write a code to convert the string \"hello\" to uppercase?"
      ],
      "metadata": {
        "id": "dZCYqh-aPAII"
      }
    },
    {
      "cell_type": "code",
      "source": [
        "a = \"hello\"\n",
        "print(a.upper())"
      ],
      "metadata": {
        "colab": {
          "base_uri": "https://localhost:8080/"
        },
        "id": "QEsYg1tfPZ5k",
        "outputId": "d2b392aa-d736-43cd-9343-58284b147227"
      },
      "execution_count": null,
      "outputs": [
        {
          "output_type": "stream",
          "name": "stdout",
          "text": [
            "HELLO\n"
          ]
        }
      ]
    },
    {
      "cell_type": "markdown",
      "source": [
        "Q5)  Write a code to replace the word \"apple\" with \"orange\" in the string \"I like apple\""
      ],
      "metadata": {
        "id": "d_rbqPDLQqTC"
      }
    },
    {
      "cell_type": "code",
      "source": [
        "a = (\"i like apple\")\n",
        "b = a.replace(\"apple\" , \"orange\")\n",
        "print(b)\n",
        "\n",
        "\n"
      ],
      "metadata": {
        "colab": {
          "base_uri": "https://localhost:8080/"
        },
        "id": "YIBspnW_RIA1",
        "outputId": "277762c4-4e5c-43aa-e659-ec45b34efe80"
      },
      "execution_count": null,
      "outputs": [
        {
          "output_type": "stream",
          "name": "stdout",
          "text": [
            "i like orange\n"
          ]
        }
      ]
    },
    {
      "cell_type": "markdown",
      "source": [
        "Q6) Write a code to create a list with numbers 1 to 5 and print it"
      ],
      "metadata": {
        "id": "aMzfPzGMVOl9"
      }
    },
    {
      "cell_type": "code",
      "source": [
        "l1 = (1 ,2 , 3 , 4 , 5)\n",
        "print(l1)"
      ],
      "metadata": {
        "colab": {
          "base_uri": "https://localhost:8080/"
        },
        "id": "yAvmwi3uVXXm",
        "outputId": "29891bb4-209a-495d-aa64-495326c82e90"
      },
      "execution_count": null,
      "outputs": [
        {
          "output_type": "stream",
          "name": "stdout",
          "text": [
            "(1, 2, 3, 4, 5)\n"
          ]
        }
      ]
    },
    {
      "cell_type": "markdown",
      "source": [
        "Q7)  Write a code to append the number 10 to the list [1, 2, 3, 4]"
      ],
      "metadata": {
        "id": "fQjQ5i97Vo6z"
      }
    },
    {
      "cell_type": "code",
      "source": [
        "my_list = [1, 2, 3, 4]\n",
        "my_list.append(10)\n",
        "print(my_list)\n"
      ],
      "metadata": {
        "colab": {
          "base_uri": "https://localhost:8080/"
        },
        "id": "Q_v5JLqbX63r",
        "outputId": "18acc10f-7cb9-44b4-9dda-59cecfca5ba4"
      },
      "execution_count": null,
      "outputs": [
        {
          "output_type": "stream",
          "name": "stdout",
          "text": [
            "[1, 2, 3, 4, 10]\n"
          ]
        }
      ]
    },
    {
      "cell_type": "markdown",
      "source": [
        "Q8) Write a code to remove the number 3 from the list [1, 2, 3, 4, 5]"
      ],
      "metadata": {
        "id": "KfahLHOpY41o"
      }
    },
    {
      "cell_type": "code",
      "source": [
        "my_list=[1,2,3,4,5]\n",
        "my_list .remove(3)\n",
        "print(my_list)"
      ],
      "metadata": {
        "colab": {
          "base_uri": "https://localhost:8080/"
        },
        "id": "28pyK8XjY9u7",
        "outputId": "4e61f3f8-5c36-4aa4-d230-f16581b64309"
      },
      "execution_count": null,
      "outputs": [
        {
          "output_type": "stream",
          "name": "stdout",
          "text": [
            "[1, 2, 4, 5]\n"
          ]
        }
      ]
    },
    {
      "cell_type": "markdown",
      "source": [
        "Q9)Write a code to access the second element in the list ['a', 'b', 'c', 'd']"
      ],
      "metadata": {
        "id": "y_-tz7lqZgrm"
      }
    },
    {
      "cell_type": "code",
      "source": [
        "my_list = ['a','b','c','d']\n",
        "second_element = my_list[1]\n",
        "print(second_element)"
      ],
      "metadata": {
        "colab": {
          "base_uri": "https://localhost:8080/"
        },
        "id": "fY6KA8znZxU0",
        "outputId": "0ccfdb42-16e1-4e73-eea5-eaf1af0f1c9d"
      },
      "execution_count": null,
      "outputs": [
        {
          "output_type": "stream",
          "name": "stdout",
          "text": [
            "b\n"
          ]
        }
      ]
    },
    {
      "cell_type": "markdown",
      "source": [
        "Q10) Write a code to reverse the list [10, 20, 30, 40, 50]."
      ],
      "metadata": {
        "id": "97AE6IUwaSEj"
      }
    },
    {
      "cell_type": "code",
      "source": [
        "my_list = [10,20,30,40,50]\n",
        "my_list.reverse()\n",
        "print(my_list)"
      ],
      "metadata": {
        "colab": {
          "base_uri": "https://localhost:8080/"
        },
        "id": "L4fwWH6-aXrk",
        "outputId": "4604d50b-603d-493d-9a3b-ae213d87c888"
      },
      "execution_count": null,
      "outputs": [
        {
          "output_type": "stream",
          "name": "stdout",
          "text": [
            "[50, 40, 30, 20, 10]\n"
          ]
        }
      ]
    },
    {
      "cell_type": "markdown",
      "source": [
        "Q11) Write a code to create a tuple with the elements 100, 200, 300 and print it."
      ],
      "metadata": {
        "id": "zqrw8_xka7Gf"
      }
    },
    {
      "cell_type": "code",
      "source": [
        "t1 = [100,200,300]\n",
        "print(t1)"
      ],
      "metadata": {
        "colab": {
          "base_uri": "https://localhost:8080/"
        },
        "id": "v_iD8dIZbEyb",
        "outputId": "4d903fe9-aaeb-4c2b-a7b8-56bb6bf1cfd3"
      },
      "execution_count": null,
      "outputs": [
        {
          "output_type": "stream",
          "name": "stdout",
          "text": [
            "[100, 200, 300]\n"
          ]
        }
      ]
    },
    {
      "cell_type": "markdown",
      "source": [
        "Q12)  Write a code to access the second-to-last element of the tuple ('red', 'green', 'blue', 'yellow')."
      ],
      "metadata": {
        "id": "f7K-LxFhbMQ-"
      }
    },
    {
      "cell_type": "code",
      "source": [
        "t1 = ['red','green','blue','yellow']\n",
        "t1[1:4]\n",
        "print(t1[1:4])"
      ],
      "metadata": {
        "colab": {
          "base_uri": "https://localhost:8080/"
        },
        "id": "QMro9TMhbS9h",
        "outputId": "19a27aea-21b8-4822-eda1-702c1d32a061"
      },
      "execution_count": null,
      "outputs": [
        {
          "output_type": "stream",
          "name": "stdout",
          "text": [
            "['green', 'blue', 'yellow']\n"
          ]
        }
      ]
    },
    {
      "cell_type": "markdown",
      "source": [
        "Q13) Write a code to find the minimum number in the tuple (10, 20, 5, 15)"
      ],
      "metadata": {
        "id": "Mnvc6gDkb8ZB"
      }
    },
    {
      "cell_type": "code",
      "source": [
        "t1 = [10,20,5,15]\n",
        "print(min(t1))"
      ],
      "metadata": {
        "colab": {
          "base_uri": "https://localhost:8080/"
        },
        "id": "lnX4-SRmcELb",
        "outputId": "bb33d09e-9b89-4db4-d364-42e2eba837e1"
      },
      "execution_count": null,
      "outputs": [
        {
          "output_type": "stream",
          "name": "stdout",
          "text": [
            "5\n"
          ]
        }
      ]
    },
    {
      "cell_type": "markdown",
      "source": [
        "Q14) Write a code to find the index of the element \"cat\" in the tuple ('dog', 'cat', 'rabbit')"
      ],
      "metadata": {
        "id": "92i_AKHXcoHO"
      }
    },
    {
      "cell_type": "code",
      "source": [
        "t1 = ['dog','cat','rabbit']\n",
        "t2 = t1.index ('cat')\n",
        "print(t2)"
      ],
      "metadata": {
        "colab": {
          "base_uri": "https://localhost:8080/"
        },
        "id": "8kBW_9zIcuh5",
        "outputId": "6980909b-ceb6-4411-ec37-0b0f825c9ad8"
      },
      "execution_count": null,
      "outputs": [
        {
          "output_type": "stream",
          "name": "stdout",
          "text": [
            "1\n"
          ]
        }
      ]
    },
    {
      "cell_type": "markdown",
      "source": [
        "Q15)  Write a code to create a tuple containing three different fruits and check if \"kiwi\" is in it."
      ],
      "metadata": {
        "id": "qTdFSqrVdtHc"
      }
    },
    {
      "cell_type": "code",
      "source": [
        "t1 = ['mango','kiwi','orange']\n",
        "print('kiwi' in t1)"
      ],
      "metadata": {
        "colab": {
          "base_uri": "https://localhost:8080/"
        },
        "id": "pNqbmJDTeVDU",
        "outputId": "9b98d708-790c-4900-834f-3618788c4b81"
      },
      "execution_count": null,
      "outputs": [
        {
          "output_type": "stream",
          "name": "stdout",
          "text": [
            "True\n"
          ]
        }
      ]
    },
    {
      "cell_type": "markdown",
      "source": [
        "Q16)  Write a code to create a set with the elements 'a', 'b', 'c' and print it"
      ],
      "metadata": {
        "id": "YS-Ysq7Eemrn"
      }
    },
    {
      "cell_type": "code",
      "source": [
        "s1 = {'a','b','c'}\n",
        "print(s1)"
      ],
      "metadata": {
        "colab": {
          "base_uri": "https://localhost:8080/"
        },
        "id": "FAVEwC_-ewb2",
        "outputId": "d01ce95c-cb20-4b5e-cc47-64381458c29a"
      },
      "execution_count": null,
      "outputs": [
        {
          "output_type": "stream",
          "name": "stdout",
          "text": [
            "{'a', 'b', 'c'}\n"
          ]
        }
      ]
    },
    {
      "cell_type": "markdown",
      "source": [
        "Q17) . Write a code to clear all elements from the set {1, 2, 3, 4, 5}."
      ],
      "metadata": {
        "id": "sgfbkiQyfHH-"
      }
    },
    {
      "cell_type": "code",
      "source": [
        "s1 = {1,2,3,4,5}\n",
        "s1.clear()\n",
        "print(s1)"
      ],
      "metadata": {
        "colab": {
          "base_uri": "https://localhost:8080/"
        },
        "id": "aNrTwvW0fMaG",
        "outputId": "a3e89e68-17cf-4e58-eabb-b21fbd17ea3e"
      },
      "execution_count": null,
      "outputs": [
        {
          "output_type": "stream",
          "name": "stdout",
          "text": [
            "set()\n"
          ]
        }
      ]
    },
    {
      "cell_type": "markdown",
      "source": [
        "Q18)  Write a code to remove the element 4 from the set {1, 2, 3, 4}."
      ],
      "metadata": {
        "id": "IgvsaEhffXfx"
      }
    },
    {
      "cell_type": "code",
      "source": [
        "s1 = {1,2,3,4}\n",
        "s1.remove(4)\n",
        "print(s1)"
      ],
      "metadata": {
        "colab": {
          "base_uri": "https://localhost:8080/"
        },
        "id": "9ccyTUoefdZS",
        "outputId": "46373c40-78dc-4782-f392-9dfd12469d58"
      },
      "execution_count": null,
      "outputs": [
        {
          "output_type": "stream",
          "name": "stdout",
          "text": [
            "{1, 2, 3}\n"
          ]
        }
      ]
    },
    {
      "cell_type": "markdown",
      "source": [
        "Q19)  Write a code to find the union of two sets {1, 2, 3} and {3, 4, 5}."
      ],
      "metadata": {
        "id": "BoB2kEoYTnnO"
      }
    },
    {
      "cell_type": "code",
      "source": [
        "set1 = {1,2,3}\n",
        "set2 = {3,4,5}\n",
        "union_set = set1.union(set2)\n",
        "print(union_set)"
      ],
      "metadata": {
        "colab": {
          "base_uri": "https://localhost:8080/"
        },
        "id": "AwVMPruRTuTr",
        "outputId": "0175b197-99b5-467a-ae39-ea49375c2782"
      },
      "execution_count": 1,
      "outputs": [
        {
          "output_type": "stream",
          "name": "stdout",
          "text": [
            "{1, 2, 3, 4, 5}\n"
          ]
        }
      ]
    },
    {
      "cell_type": "markdown",
      "source": [
        "Q20)  Write a code to find the intersection of two sets {1, 2, 3} and {2, 3, 4}.\n"
      ],
      "metadata": {
        "id": "uMJ6Si_7Ubuc"
      }
    },
    {
      "cell_type": "code",
      "source": [
        "set1 = {1,2,3}\n",
        "set2 = {2,3,4}\n",
        "intersection_set = set1.intersection(set2)\n",
        "print(intersection_set)"
      ],
      "metadata": {
        "colab": {
          "base_uri": "https://localhost:8080/"
        },
        "id": "xHQnzqwPUj9H",
        "outputId": "07947c43-9192-4df8-8fc5-5f5374853396"
      },
      "execution_count": 2,
      "outputs": [
        {
          "output_type": "stream",
          "name": "stdout",
          "text": [
            "{2, 3}\n"
          ]
        }
      ]
    },
    {
      "cell_type": "markdown",
      "source": [
        "Q21)  Write a code to create a dictionary with the keys \"name\", \"age\", and \"city\", and print it."
      ],
      "metadata": {
        "id": "wqCM7YzfVK8P"
      }
    },
    {
      "cell_type": "code",
      "source": [
        "d1 = {\"name\" : \"bhagyashree\" , \"age\" : 20 , \"city\" : \"kolhapur\"}\n",
        "print(d1)"
      ],
      "metadata": {
        "colab": {
          "base_uri": "https://localhost:8080/"
        },
        "id": "AtoqkBZXVi6a",
        "outputId": "38e47957-29c6-4717-b885-5ec4df63283d"
      },
      "execution_count": 3,
      "outputs": [
        {
          "output_type": "stream",
          "name": "stdout",
          "text": [
            "{'name': 'bhagyashree', 'age': 20, 'city': 'kolhapur'}\n"
          ]
        }
      ]
    },
    {
      "cell_type": "markdown",
      "source": [
        "Q22) Write a code to add a new key-value pair \"country\": \"USA\" to the dictionary {'name': 'John', 'age': 25}"
      ],
      "metadata": {
        "id": "BWBHPnK6WDkG"
      }
    },
    {
      "cell_type": "code",
      "source": [
        "d1 = {'name' : 'jhon', 'age' : 25}\n",
        "d1['country'] = 'USA'\n",
        "print(d1)"
      ],
      "metadata": {
        "colab": {
          "base_uri": "https://localhost:8080/"
        },
        "id": "kdpMADV-WMVr",
        "outputId": "4c7f133c-7c75-4b8a-9fd7-fc840e2e224f"
      },
      "execution_count": 4,
      "outputs": [
        {
          "output_type": "stream",
          "name": "stdout",
          "text": [
            "{'name': 'jhon', 'age': 25, 'country': 'USA'}\n"
          ]
        }
      ]
    },
    {
      "cell_type": "markdown",
      "source": [
        "Q23)  Write a code to access the value associated with the key \"name\" in the dictionary {'name': 'Alice', 'age': 30}."
      ],
      "metadata": {
        "id": "qbZIkGI6W7PU"
      }
    },
    {
      "cell_type": "code",
      "source": [
        "d1 = {'name' : 'alice' , 'age' : 30}\n",
        "print(d1['name'])"
      ],
      "metadata": {
        "colab": {
          "base_uri": "https://localhost:8080/"
        },
        "id": "Y-9-sHasXCVn",
        "outputId": "aa974e1b-a68e-4c3c-e371-1e481ad57efb"
      },
      "execution_count": 5,
      "outputs": [
        {
          "output_type": "stream",
          "name": "stdout",
          "text": [
            "alice\n"
          ]
        }
      ]
    },
    {
      "cell_type": "markdown",
      "source": [
        "Q24)  Write a code to remove the key \"age\" from the dictionary {'name': 'Bob', 'age': 22, 'city': 'New York'}."
      ],
      "metadata": {
        "id": "OJaEr4vwXl7y"
      }
    },
    {
      "cell_type": "code",
      "source": [
        "d1 = {'name' : 'bob' , 'age' : '22' , 'city' : 'new york'}\n",
        "del d1['age']\n",
        "print(d1)\n"
      ],
      "metadata": {
        "colab": {
          "base_uri": "https://localhost:8080/"
        },
        "id": "zI0uutSMXufU",
        "outputId": "8e8abe1f-87fa-48eb-ae9b-9df6937445bb"
      },
      "execution_count": 11,
      "outputs": [
        {
          "output_type": "stream",
          "name": "stdout",
          "text": [
            "{'name': 'bob', 'city': 'new york'}\n"
          ]
        }
      ]
    },
    {
      "cell_type": "markdown",
      "source": [
        "Q25)  Write a code to check if the key \"city\" exists in the dictionary {'name': 'Alice', 'city': 'Paris'}.\n"
      ],
      "metadata": {
        "id": "vihKzjk0aE9T"
      }
    },
    {
      "cell_type": "code",
      "source": [
        "d1 = {'name' : 'alice' , 'city' : 'paris'}\n",
        "print('city' in d1)"
      ],
      "metadata": {
        "colab": {
          "base_uri": "https://localhost:8080/"
        },
        "id": "S6dGZyD2aMvo",
        "outputId": "130462de-bdd8-4226-aad6-c30392fa3183"
      },
      "execution_count": 12,
      "outputs": [
        {
          "output_type": "stream",
          "name": "stdout",
          "text": [
            "True\n"
          ]
        }
      ]
    },
    {
      "cell_type": "markdown",
      "source": [
        "Q26)  Write a code to create a list, a tuple, and a dictionary, and print them all."
      ],
      "metadata": {
        "id": "vlY2XGyjah28"
      }
    },
    {
      "cell_type": "code",
      "source": [
        "l1 = ( 1, 2, 3, 4)\n",
        "print(l1)"
      ],
      "metadata": {
        "colab": {
          "base_uri": "https://localhost:8080/"
        },
        "id": "LS3CP9cgan7L",
        "outputId": "d4165283-59cb-4be7-8367-714774143b2a"
      },
      "execution_count": 13,
      "outputs": [
        {
          "output_type": "stream",
          "name": "stdout",
          "text": [
            "(1, 2, 3, 4)\n"
          ]
        }
      ]
    },
    {
      "cell_type": "code",
      "source": [
        "t1 = { 1, 2, 3, 4}\n",
        "print(t1)"
      ],
      "metadata": {
        "colab": {
          "base_uri": "https://localhost:8080/"
        },
        "id": "FPPv4jDwbpuH",
        "outputId": "571ed2aa-4951-4429-b860-7d94b89a0ad5"
      },
      "execution_count": 14,
      "outputs": [
        {
          "output_type": "stream",
          "name": "stdout",
          "text": [
            "{1, 2, 3, 4}\n"
          ]
        }
      ]
    },
    {
      "cell_type": "code",
      "source": [
        "d1 = { \"name\" : \"bhagyashree\" , \"age\" : 20 , \"city\" : \"kolhapur\"}\n",
        "print(d1)"
      ],
      "metadata": {
        "colab": {
          "base_uri": "https://localhost:8080/"
        },
        "id": "yO-Je_7LcQ2v",
        "outputId": "b2df4b68-a982-4b1a-f9b0-4676ad00beed"
      },
      "execution_count": 15,
      "outputs": [
        {
          "output_type": "stream",
          "name": "stdout",
          "text": [
            "{'name': 'bhagyashree', 'age': 20, 'city': 'kolhapur'}\n"
          ]
        }
      ]
    },
    {
      "cell_type": "markdown",
      "source": [
        "Q27) Write a code to create a list of 5 random numbers between 1 and 100, sort it in ascending order, and print the result. (replaced)"
      ],
      "metadata": {
        "id": "pJNIn4CpcXJj"
      }
    },
    {
      "cell_type": "code",
      "source": [
        "l1 = (20 , 10 , 40 , 30)\n",
        "print(l1)"
      ],
      "metadata": {
        "colab": {
          "base_uri": "https://localhost:8080/"
        },
        "id": "lHnDr8RtckFz",
        "outputId": "7e8a7715-b5e5-44e8-a17d-df498c1e3f93"
      },
      "execution_count": 20,
      "outputs": [
        {
          "output_type": "stream",
          "name": "stdout",
          "text": [
            "(20, 10, 40, 30)\n"
          ]
        }
      ]
    },
    {
      "cell_type": "code",
      "source": [
        "sorted(l1)"
      ],
      "metadata": {
        "colab": {
          "base_uri": "https://localhost:8080/"
        },
        "id": "ptDkoKgJd7_y",
        "outputId": "940e9d30-1038-40e8-a4bf-7030319e27ec"
      },
      "execution_count": 18,
      "outputs": [
        {
          "output_type": "execute_result",
          "data": {
            "text/plain": [
              "[10, 20, 30, 40]"
            ]
          },
          "metadata": {},
          "execution_count": 18
        }
      ]
    },
    {
      "cell_type": "markdown",
      "source": [
        "Q28) Write a code to create a list with strings and print the element at the third index."
      ],
      "metadata": {
        "id": "vY44qGUKeRY-"
      }
    },
    {
      "cell_type": "code",
      "source": [
        "l1 = ('apple' , 'orange' , 'mango' , 'banana' , 'watermelon')\n",
        "print(l1[3])"
      ],
      "metadata": {
        "colab": {
          "base_uri": "https://localhost:8080/"
        },
        "id": "ZPYwVqc2eXH4",
        "outputId": "e0e378d0-8f80-4e91-840c-d2c75172eebc"
      },
      "execution_count": 22,
      "outputs": [
        {
          "output_type": "stream",
          "name": "stdout",
          "text": [
            "banana\n"
          ]
        }
      ]
    },
    {
      "cell_type": "markdown",
      "source": [
        "Q29)  Write a code to combine two dictionaries into one and print the result.\n"
      ],
      "metadata": {
        "id": "zbpbu9rofZN_"
      }
    },
    {
      "cell_type": "code",
      "source": [
        "dict1 = {'a': 1, 'b': 2}\n",
        "dict2 = {'c': 3, 'd': 4}\n",
        "dict1.update(dict2)\n",
        "print(dict1)"
      ],
      "metadata": {
        "colab": {
          "base_uri": "https://localhost:8080/"
        },
        "id": "H7NPB739f4Vm",
        "outputId": "16ed0e1f-bfcd-4b2d-917c-a399d6cc8163"
      },
      "execution_count": 24,
      "outputs": [
        {
          "output_type": "stream",
          "name": "stdout",
          "text": [
            "{'a': 1, 'b': 2, 'c': 3, 'd': 4}\n"
          ]
        }
      ]
    },
    {
      "cell_type": "markdown",
      "source": [
        "Q30) Write a code to convert a list of strings into a set"
      ],
      "metadata": {
        "id": "jvXLLYjehjtt"
      }
    },
    {
      "cell_type": "code",
      "source": [
        "l1 = ('apple' , 'orange' , 'mango' , 'banana' , 'watermelon', 'orange' , 'banana')\n",
        "print(set(l1))"
      ],
      "metadata": {
        "colab": {
          "base_uri": "https://localhost:8080/"
        },
        "id": "fWz-kQlbhyPQ",
        "outputId": "9a082263-c8aa-4bcf-afe1-858fab8c9e22"
      },
      "execution_count": 25,
      "outputs": [
        {
          "output_type": "stream",
          "name": "stdout",
          "text": [
            "{'apple', 'orange', 'watermelon', 'banana', 'mango'}\n"
          ]
        }
      ]
    }
  ]
}